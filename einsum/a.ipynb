{
 "cells": [
  {
   "cell_type": "code",
   "id": "initial_id",
   "metadata": {
    "collapsed": true,
    "ExecuteTime": {
     "end_time": "2024-12-13T13:43:21.136376Z",
     "start_time": "2024-12-13T13:43:19.770231Z"
    }
   },
   "source": [
    "import math\n",
    "\n",
    "import torch\n",
    "from sympy import mathml"
   ],
   "outputs": [],
   "execution_count": 2
  },
  {
   "metadata": {
    "ExecuteTime": {
     "end_time": "2024-12-13T13:43:21.216327Z",
     "start_time": "2024-12-13T13:43:21.165184Z"
    }
   },
   "cell_type": "code",
   "source": [
    "a = torch.randn(3, 5)\n",
    "b = torch.randn(5, 2)\n",
    "c = torch.einsum('ik, kj -> ij', a, b)\n",
    "c.shape"
   ],
   "id": "74fe096fa3cc6853",
   "outputs": [
    {
     "data": {
      "text/plain": [
       "torch.Size([3, 2])"
      ]
     },
     "execution_count": 3,
     "metadata": {},
     "output_type": "execute_result"
    }
   ],
   "execution_count": 3
  },
  {
   "metadata": {
    "ExecuteTime": {
     "end_time": "2024-12-13T06:46:18.574256Z",
     "start_time": "2024-12-13T06:46:18.570264Z"
    }
   },
   "cell_type": "code",
   "source": "c.shape",
   "id": "4a9700c11aa38200",
   "outputs": [
    {
     "data": {
      "text/plain": [
       "torch.Size([3, 2])"
      ]
     },
     "execution_count": 3,
     "metadata": {},
     "output_type": "execute_result"
    }
   ],
   "execution_count": 3
  },
  {
   "metadata": {
    "ExecuteTime": {
     "end_time": "2024-12-13T06:46:32.240421Z",
     "start_time": "2024-12-13T06:46:32.228860Z"
    }
   },
   "cell_type": "code",
   "source": [
    "d = a @ b\n",
    "d"
   ],
   "id": "813b4c6d488478e5",
   "outputs": [
    {
     "data": {
      "text/plain": [
       "tensor([[ 0.1920, -1.4344],\n",
       "        [-1.4116,  1.1372],\n",
       "        [-0.0248, -0.1263]])"
      ]
     },
     "execution_count": 4,
     "metadata": {},
     "output_type": "execute_result"
    }
   ],
   "execution_count": 4
  },
  {
   "metadata": {
    "ExecuteTime": {
     "end_time": "2024-12-13T14:00:52.278478Z",
     "start_time": "2024-12-13T14:00:52.260213Z"
    }
   },
   "cell_type": "code",
   "source": [
    "a = torch.randn(5)\n",
    "b = torch.randn(3)\n",
    "c = torch.einsum('i, j -> ij', a, b)\n",
    "c.shape"
   ],
   "id": "d12d47309844c91a",
   "outputs": [
    {
     "data": {
      "text/plain": [
       "torch.Size([5, 3])"
      ]
     },
     "execution_count": 11,
     "metadata": {},
     "output_type": "execute_result"
    }
   ],
   "execution_count": 11
  },
  {
   "metadata": {
    "ExecuteTime": {
     "end_time": "2024-12-13T06:48:40.950376Z",
     "start_time": "2024-12-13T06:48:40.944126Z"
    }
   },
   "cell_type": "code",
   "source": "c, c.shape",
   "id": "88164717fd54b428",
   "outputs": [
    {
     "data": {
      "text/plain": [
       "(tensor([[-1.0260,  1.5687, -0.8067],\n",
       "         [-1.2430,  1.9004, -0.9773],\n",
       "         [ 0.5786, -0.8846,  0.4549],\n",
       "         [ 0.4063, -0.6213,  0.3195],\n",
       "         [-0.9454,  1.4455, -0.7434]]),\n",
       " torch.Size([5, 3]))"
      ]
     },
     "execution_count": 7,
     "metadata": {},
     "output_type": "execute_result"
    }
   ],
   "execution_count": 7
  },
  {
   "metadata": {
    "ExecuteTime": {
     "end_time": "2024-12-13T06:50:49.882911Z",
     "start_time": "2024-12-13T06:50:49.878201Z"
    }
   },
   "cell_type": "code",
   "source": [
    "d = torch.einsum('ij->i', c)\n",
    "d, d.shape"
   ],
   "id": "60d19b1dc7b6e943",
   "outputs": [
    {
     "data": {
      "text/plain": [
       "(tensor([-0.2640, -0.3198,  0.1489,  0.1046, -0.2433]), torch.Size([5]))"
      ]
     },
     "execution_count": 11,
     "metadata": {},
     "output_type": "execute_result"
    }
   ],
   "execution_count": 11
  },
  {
   "metadata": {
    "ExecuteTime": {
     "end_time": "2024-12-13T06:52:32.875131Z",
     "start_time": "2024-12-13T06:52:32.867403Z"
    }
   },
   "cell_type": "code",
   "source": [
    "e = torch.randn(3, 4, 5)\n",
    "f = torch.einsum('ijk->kji', e)\n",
    "f.shape"
   ],
   "id": "c7d8b056f1871fb2",
   "outputs": [
    {
     "data": {
      "text/plain": [
       "torch.Size([5, 4, 3])"
      ]
     },
     "execution_count": 12,
     "metadata": {},
     "output_type": "execute_result"
    }
   ],
   "execution_count": 12
  },
  {
   "metadata": {
    "ExecuteTime": {
     "end_time": "2024-12-13T06:55:19.787934Z",
     "start_time": "2024-12-13T06:55:19.779423Z"
    }
   },
   "cell_type": "code",
   "source": [
    "a = torch.randn(3, 5)\n",
    "b = torch.randn(2, 5)\n",
    "c = torch.einsum('ik, jk -> ij', a, b)\n",
    "c.shape"
   ],
   "id": "a9405a33d113698",
   "outputs": [
    {
     "data": {
      "text/plain": [
       "torch.Size([3, 2])"
      ]
     },
     "execution_count": 13,
     "metadata": {},
     "output_type": "execute_result"
    }
   ],
   "execution_count": 13
  },
  {
   "metadata": {
    "ExecuteTime": {
     "end_time": "2024-12-13T06:57:49.687870Z",
     "start_time": "2024-12-13T06:57:49.682200Z"
    }
   },
   "cell_type": "code",
   "source": [
    "a = torch.randn(3, 5)\n",
    "b = torch.randn(3, 5)\n",
    "c = torch.einsum('i,i -> ', a[0], b[0])\n",
    "c.shape"
   ],
   "id": "19c08ef16593fac5",
   "outputs": [
    {
     "data": {
      "text/plain": [
       "torch.Size([])"
      ]
     },
     "execution_count": 20,
     "metadata": {},
     "output_type": "execute_result"
    }
   ],
   "execution_count": 20
  },
  {
   "metadata": {
    "ExecuteTime": {
     "end_time": "2024-12-13T13:55:03.423206Z",
     "start_time": "2024-12-13T13:55:03.398555Z"
    }
   },
   "cell_type": "code",
   "source": [
    "a = torch.randn(3, 5, 4)\n",
    "b = torch.randn(3, 4, 6)\n",
    "c = torch.einsum('ijk,ikl ->ijl ', a, b)\n",
    "c.shape"
   ],
   "id": "7a9ceecc968b437d",
   "outputs": [
    {
     "data": {
      "text/plain": [
       "torch.Size([3, 5, 6])"
      ]
     },
     "execution_count": 9,
     "metadata": {},
     "output_type": "execute_result"
    }
   ],
   "execution_count": 9
  },
  {
   "metadata": {
    "ExecuteTime": {
     "end_time": "2024-12-13T13:53:48.811415Z",
     "start_time": "2024-12-13T13:53:48.800773Z"
    }
   },
   "cell_type": "code",
   "source": [
    "a = torch.tensor(((1, 2, 3), (3, 4, 5)))\n",
    "b = torch.einsum('i->', a[1])\n",
    "b"
   ],
   "id": "8bde3f70110c6c23",
   "outputs": [
    {
     "data": {
      "text/plain": [
       "tensor(12)"
      ]
     },
     "execution_count": 8,
     "metadata": {},
     "output_type": "execute_result"
    }
   ],
   "execution_count": 8
  },
  {
   "metadata": {
    "ExecuteTime": {
     "end_time": "2024-12-13T13:58:52.831213Z",
     "start_time": "2024-12-13T13:58:52.819755Z"
    }
   },
   "cell_type": "code",
   "source": [
    "a = torch.randn(3, 5, 4)\n",
    "c = torch.einsum('ijk->kji ', a)\n",
    "c.shape"
   ],
   "id": "98d68f521c7bff56",
   "outputs": [
    {
     "data": {
      "text/plain": [
       "torch.Size([4, 5, 3])"
      ]
     },
     "execution_count": 10,
     "metadata": {},
     "output_type": "execute_result"
    }
   ],
   "execution_count": 10
  },
  {
   "metadata": {
    "ExecuteTime": {
     "end_time": "2024-12-13T14:07:53.423976Z",
     "start_time": "2024-12-13T14:07:53.415138Z"
    }
   },
   "cell_type": "code",
   "source": [
    "import math\n",
    "from torch import nn"
   ],
   "id": "491f6e72ab6db4ca",
   "outputs": [],
   "execution_count": 18
  },
  {
   "metadata": {
    "ExecuteTime": {
     "end_time": "2024-12-13T14:11:08.377875Z",
     "start_time": "2024-12-13T14:11:08.369367Z"
    }
   },
   "cell_type": "code",
   "source": [
    "q = torch.randn(2, 3, 4, 5) # (bs, nh, sl, dim)\n",
    "k = torch.randn(2, 3, 4, 5)\n",
    "v = torch.randn(2, 3, 4, 5)\n",
    "\n",
    "a = torch.einsum('abcd, abed -> abce', q, k)\n",
    "print(\"after matrix multiplication of q & k : \", a.shape)\n",
    "a /= math.sqrt(5.0)\n",
    "a = nn.functional.softmax(a, dim=-1)\n",
    "a = torch.einsum('abcd, abef -> abcf', a, v)\n",
    "print(\"after matrix multiplication of atnn & v : \", a.shape)"
   ],
   "id": "ddd17e86dc43b3e6",
   "outputs": [
    {
     "name": "stdout",
     "output_type": "stream",
     "text": [
      "after matrix multiplication of q & k :  torch.Size([2, 3, 4, 4])\n",
      "after matrix multiplication of atnn & v :  torch.Size([2, 3, 4, 5])\n"
     ]
    }
   ],
   "execution_count": 22
  },
  {
   "metadata": {},
   "cell_type": "code",
   "outputs": [],
   "execution_count": null,
   "source": "",
   "id": "2ee82d7da7968f34"
  }
 ],
 "metadata": {
  "kernelspec": {
   "display_name": "Python 3",
   "language": "python",
   "name": "python3"
  },
  "language_info": {
   "codemirror_mode": {
    "name": "ipython",
    "version": 2
   },
   "file_extension": ".py",
   "mimetype": "text/x-python",
   "name": "python",
   "nbconvert_exporter": "python",
   "pygments_lexer": "ipython2",
   "version": "2.7.6"
  }
 },
 "nbformat": 4,
 "nbformat_minor": 5
}
