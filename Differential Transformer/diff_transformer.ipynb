{
  "nbformat": 4,
  "nbformat_minor": 0,
  "metadata": {
    "colab": {
      "provenance": []
    },
    "kernelspec": {
      "name": "python3",
      "display_name": "Python 3"
    },
    "language_info": {
      "name": "python"
    }
  },
  "cells": [
    {
      "cell_type": "code",
      "execution_count": 1,
      "metadata": {
        "id": "rfglBPFc4Kgh"
      },
      "outputs": [],
      "source": [
        "import torch\n",
        "from torch import nn"
      ]
    },
    {
      "cell_type": "code",
      "source": [
        "import math"
      ],
      "metadata": {
        "id": "Dj8-3td9I2kX"
      },
      "execution_count": 2,
      "outputs": []
    },
    {
      "cell_type": "code",
      "source": [
        "# !pip install torch"
      ],
      "metadata": {
        "id": "dEc2Jm4WF7On"
      },
      "execution_count": 3,
      "outputs": []
    },
    {
      "cell_type": "code",
      "source": [
        "n_embd = 768\n",
        "n_head = 12\n"
      ],
      "metadata": {
        "id": "LvVICxCyGAW1"
      },
      "execution_count": 4,
      "outputs": []
    },
    {
      "cell_type": "code",
      "source": [
        "768 // 12"
      ],
      "metadata": {
        "colab": {
          "base_uri": "https://localhost:8080/"
        },
        "id": "rX1_88GZGLxV",
        "outputId": "1f06bb85-5e13-430c-8fed-ca506655568e"
      },
      "execution_count": 5,
      "outputs": [
        {
          "output_type": "execute_result",
          "data": {
            "text/plain": [
              "64"
            ]
          },
          "metadata": {},
          "execution_count": 5
        }
      ]
    },
    {
      "cell_type": "code",
      "source": [
        "a = torch.randn(2, 3, 6, 8)\n",
        "a1, a2 = torch.chunk(a, 2, dim=-1)\n",
        "a1.shape"
      ],
      "metadata": {
        "colab": {
          "base_uri": "https://localhost:8080/"
        },
        "id": "V31ryW2WHgPI",
        "outputId": "185b2f10-539a-4ff7-999e-965a30419c48"
      },
      "execution_count": 6,
      "outputs": [
        {
          "output_type": "execute_result",
          "data": {
            "text/plain": [
              "torch.Size([2, 3, 6, 4])"
            ]
          },
          "metadata": {},
          "execution_count": 6
        }
      ]
    },
    {
      "cell_type": "code",
      "source": [
        "class diff_tranformer(nn.Module):\n",
        "  def __init__(self):\n",
        "    super().__init__()\n",
        "\n",
        "    self.hd = n_embd // n_head\n",
        "\n",
        "    self.wq = nn.Linear(n_embd, n_embd)\n",
        "    self.wk = nn.Linear(n_embd, n_embd)\n",
        "    self.wv = nn.Linear(n_embd, n_embd)\n",
        "    self.wo = nn.Linear(n_embd, n_embd)\n",
        "\n",
        "    self.lq1 = nn.Parameter(torch.randn(self.hd))\n",
        "    self.lq2 = nn.Parameter(torch.randn(self.hd))\n",
        "\n",
        "    self.lk1 = nn.Parameter(torch.randn(self.hd))\n",
        "    self.lk2 = nn.Parameter(torch.randn(self.hd))\n",
        "\n",
        "    self.l_init = 0.8\n",
        "\n",
        "    self.l = torch.exp(torch.dot(self.lq1 ,self.lk1)) - torch.exp(torch.dot(self.lq2 ,self.lk2)) + self.l_init # (1, 1, hd)\n",
        "\n",
        "\n",
        "  def forward(self, x):\n",
        "    bs, sl, d = x.shape\n",
        "\n",
        "    # print(self.l, self.l.shape)\n",
        "\n",
        "    q = self.wq(x)\n",
        "    k = self.wk(x)\n",
        "    v = self.wv(x)\n",
        "\n",
        "    q = q.view(bs, sl, n_head, self.hd) # bs, sl, nh, hd\n",
        "    k = k.view(bs, sl, n_head, self.hd)\n",
        "    v = v.view(bs, sl, n_head, self.hd)\n",
        "\n",
        "    q1, q2 = torch.chunk(q, 2, dim=-1)\n",
        "    k1, k2 = torch.chunk(k, 2, dim=-1) # bs, sl, nh, hd/2 --> bs, nh, sl , hd/2 --> bs, nh, sl, sl\n",
        "    v = v.transpose(1, 2)\n",
        "\n",
        "    q1 = q1.transpose(1, 2)\n",
        "    q2 = q2.transpose(1, 2)\n",
        "    k1 = k1.transpose(1, 2)\n",
        "    k2 = k2.transpose(1, 2)\n",
        "\n",
        "    attn1 = (q1 @ k1.transpose(-2, -1)) / math.sqrt(self.hd)\n",
        "    attn1 = attn1.softmax(dim=-1)\n",
        "\n",
        "    attn2 = (q2 @ k2.transpose(-2, -1)) / math.sqrt(self.hd)\n",
        "    attn2 = attn2.softmax(dim=-1)\n",
        "\n",
        "    # print(attn1.shape, attn2.shape)\n",
        "\n",
        "    attn = attn1 - (self.l * attn2)\n",
        "\n",
        "    # print(attn.shape, (self.l * attn2).shape)\n",
        "\n",
        "    attn = attn @ v # bs, nh, sl, sl --> bs, nh, sl, hd\n",
        "\n",
        "    attn = attn.transpose(1, 2) # bs, nh, sl, hd --> bs, sl, nh, hd --> bs, sl, dim\n",
        "    attn = attn.reshape(bs, sl, d)\n",
        "\n",
        "    attn = self.wo(attn)\n",
        "\n",
        "    return attn\n"
      ],
      "metadata": {
        "id": "2kZjIG2vGNF9"
      },
      "execution_count": 7,
      "outputs": []
    },
    {
      "cell_type": "code",
      "source": [
        "a = torch.randn(2, 5, n_embd)\n",
        "b = diff_tranformer()\n",
        "c = b(a)\n",
        "c.shape"
      ],
      "metadata": {
        "colab": {
          "base_uri": "https://localhost:8080/"
        },
        "id": "4RHZI5MKLJJm",
        "outputId": "14c09741-8026-42da-9a98-7e672f44c96e"
      },
      "execution_count": 8,
      "outputs": [
        {
          "output_type": "execute_result",
          "data": {
            "text/plain": [
              "torch.Size([2, 5, 768])"
            ]
          },
          "metadata": {},
          "execution_count": 8
        }
      ]
    },
    {
      "cell_type": "code",
      "source": [
        "a = torch.randn(4)\n",
        "b = torch.randn(4)\n",
        "c = a * b\n",
        "d = torch.dot(a, b)\n",
        "a, b, c, d, c.shape, d.shape"
      ],
      "metadata": {
        "colab": {
          "base_uri": "https://localhost:8080/"
        },
        "id": "pGQzEHOlLR11",
        "outputId": "59032917-4765-48a5-beb3-8513bd7d2c57"
      },
      "execution_count": 9,
      "outputs": [
        {
          "output_type": "execute_result",
          "data": {
            "text/plain": [
              "(tensor([-2.2390, -0.8825,  0.9771,  1.1039]),\n",
              " tensor([ 0.7271, -0.1978, -0.2259,  0.3331]),\n",
              " tensor([-1.6280,  0.1746, -0.2208,  0.3677]),\n",
              " tensor(-1.3064),\n",
              " torch.Size([4]),\n",
              " torch.Size([]))"
            ]
          },
          "metadata": {},
          "execution_count": 9
        }
      ]
    },
    {
      "cell_type": "code",
      "source": [],
      "metadata": {
        "id": "DibmdGDBNBUN"
      },
      "execution_count": null,
      "outputs": []
    }
  ]
}